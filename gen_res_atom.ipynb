{
 "cells": [
  {
   "cell_type": "code",
   "execution_count": 1,
   "metadata": {},
   "outputs": [],
   "source": [
    "import sys, os\n",
    "import argparse, re "
   ]
  },
  {
   "cell_type": "code",
   "execution_count": 11,
   "metadata": {},
   "outputs": [
    {
     "name": "stdout",
     "output_type": "stream",
     "text": [
      "['H1']\n"
     ]
    }
   ],
   "source": [
    "#Extract atom information\n",
    "\n",
    "datoms= {}\n",
    "with open(\"res_atoms.dat\", 'r') as atomfile:\n",
    "    for line in atomfile:\n",
    "        chain = line.split()[0]\n",
    "        res = line.split()[1]\n",
    "        atoms = line.split()[2:]\n",
    "        datoms[chain+\":\"+res] = atoms\n",
    "print(atoms)"
   ]
  },
  {
   "cell_type": "code",
   "execution_count": 12,
   "metadata": {},
   "outputs": [
    {
     "name": "stdout",
     "output_type": "stream",
     "text": [
      "['C:202', 'B:57', 'C:90', 'B:75', 'C:115', 'B:59', 'C:7', 'B:74', 'C:108', 'B:73', 'C:78', 'C:209', 'C:116', 'B:60', 'C:211']\n"
     ]
    }
   ],
   "source": [
    "# Extract freq information\n",
    "freqorder = []\n",
    "with open(\"freq_per_res.dat\", 'r') as freqfile:\n",
    "    for line in freqfile:\n",
    "        chain = line.split()[0]\n",
    "        res = line.split()[1]\n",
    "        freqorder.append(chain+\":\"+res)\n",
    "print(freqorder)"
   ]
  },
  {
   "cell_type": "code",
   "execution_count": 22,
   "metadata": {},
   "outputs": [],
   "source": [
    "# find largest seed  index\n",
    "seed = ('C:202') \n",
    "start = max([freqorder.index(seed)])\n",
    "\n",
    "for i in range(start, len(freqorder)):\n",
    "    savefile = open(\"res-atom-\"+str(i)+\".dat\",'w')\n",
    "    for j in range(0, i+1):\n",
    "        chain = freqorder[j].split(\":\")[0]\n",
    "        res = freqorder[j].split(\":\")[1]\n",
    "        info = \" \".join(datoms[freqorder[j]])\n",
    "        savefile.write(chain+\"  \"+res+\"   \"+info+\"\\n\") \n",
    "    savefile.close()"
   ]
  },
  {
   "cell_type": "code",
   "execution_count": null,
   "metadata": {},
   "outputs": [],
   "source": [
    "import sys, os\n",
    "import argparse, re \n",
    "\n",
    "#Extract atom information\n",
    "datoms= {}\n",
    "with open(\"res_atoms.dat\", 'r') as atomfile:\n",
    "    for line in atomfile:\n",
    "        chain = line.split()[0]\n",
    "        res = line.split()[1]\n",
    "        atoms = line.split()[2:]\n",
    "        datoms[chain+\":\"+res] = atoms\n",
    "        \n",
    "# Extract freq information\n",
    "freqorder = []\n",
    "with open(\"freq_per_res.dat\", 'r') as freqfile:\n",
    "    for line in freqfile:\n",
    "        chain = line.split()[0]\n",
    "        res = line.split()[1]\n",
    "        freqorder.append(chain+\":\"+res\n",
    "# find largest seed  index\n",
    "seed = ('C:202') \n",
    "start = max([freqorder.index(seed)])\n",
    "\n",
    "for i in range(start, len(freqorder)):\n",
    "    savefile = open(\"res-atom-\"+str(i)+\".dat\",'w')\n",
    "    for j in range(0, i+1):\n",
    "        chain = freqorder[j].split(\":\")[0]\n",
    "        res = freqorder[j].split(\":\")[1]\n",
    "        info = \" \".join(datoms[freqorder[j]])\n",
    "        savefile.write(chain+\"  \"+res+\"   \"+info+\"\\n\") \n",
    "    savefile.close()"
   ]
  }
 ],
 "metadata": {
  "kernelspec": {
   "display_name": "Python 3",
   "language": "python",
   "name": "python3"
  },
  "language_info": {
   "codemirror_mode": {
    "name": "ipython",
    "version": 3
   },
   "file_extension": ".py",
   "mimetype": "text/x-python",
   "name": "python",
   "nbconvert_exporter": "python",
   "pygments_lexer": "ipython3",
   "version": "3.7.4"
  }
 },
 "nbformat": 4,
 "nbformat_minor": 2
}
